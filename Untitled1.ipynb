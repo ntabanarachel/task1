{
 "cells": [
  {
   "cell_type": "code",
   "execution_count": 1,
   "id": "29db9819",
   "metadata": {},
   "outputs": [
    {
     "name": "stdout",
     "output_type": "stream",
     "text": [
      "                   Bearer Id               Start  Start ms  \\\n",
      "0       13114483460844900352 2019-04-04 12:01:18     770.0   \n",
      "1       13114483482878900224 2019-04-09 13:04:04     235.0   \n",
      "2       13114483484080500736 2019-04-09 17:42:11       1.0   \n",
      "3       13114483485442799616 2019-04-10 00:31:25     486.0   \n",
      "4       13114483499480700928 2019-04-12 20:10:23     565.0   \n",
      "...                      ...                 ...       ...   \n",
      "149996   7277825670196679680 2019-04-29 07:28:42     451.0   \n",
      "149997   7349883264234609664 2019-04-29 07:28:42     483.0   \n",
      "149998  13114483573367300096 2019-04-29 07:28:43     283.0   \n",
      "149999  13114483573367300096 2019-04-29 07:28:43     696.0   \n",
      "150000                                       NaT       NaN   \n",
      "\n",
      "                       End  End ms  Dur. (ms)          IMSI  MSISDN/Number  \\\n",
      "0      2019-04-25 14:35:31   662.0  1823652.0  2.082014e+14   3.366496e+10   \n",
      "1      2019-04-25 08:15:48   606.0  1365104.0  2.082019e+14   3.368185e+10   \n",
      "2      2019-04-25 11:58:13   652.0  1361762.0  2.082003e+14   3.376063e+10   \n",
      "3      2019-04-25 07:36:35   171.0  1321509.0  2.082014e+14   3.375034e+10   \n",
      "4      2019-04-25 10:40:32   954.0  1089009.0  2.082014e+14   3.369980e+10   \n",
      "...                    ...     ...        ...           ...            ...   \n",
      "149996 2019-04-30 06:02:33   214.0    81230.0  2.082022e+14   3.365069e+10   \n",
      "149997 2019-04-30 10:41:33   187.0    97970.0  2.082019e+14   3.366345e+10   \n",
      "149998 2019-04-30 10:46:12   810.0    98249.0  2.082017e+14   3.362189e+10   \n",
      "149999 2019-04-30 10:40:34   327.0    97910.0  2.082021e+14   3.361962e+10   \n",
      "150000                 NaT     NaN        NaN           NaN            NaN   \n",
      "\n",
      "                IMEI Last Location Name  ...  Youtube DL (Bytes)  \\\n",
      "0       3.552121e+13   9164566995485190  ...        1.585461e+07   \n",
      "1       3.579401e+13            L77566A  ...        2.024740e+07   \n",
      "2       3.528151e+13            D42335A  ...        1.972566e+07   \n",
      "3       3.535661e+13            T21824A  ...        2.138812e+07   \n",
      "4       3.540701e+13            D88865A  ...        1.525938e+07   \n",
      "...              ...                ...  ...                 ...   \n",
      "149996  3.548311e+13            D20434A  ...        1.619167e+07   \n",
      "149997  3.566051e+13            D10223C  ...        1.387723e+07   \n",
      "149998  3.572121e+13            T51102A  ...        2.266051e+07   \n",
      "149999  8.618620e+13            L88342B  ...        8.817106e+06   \n",
      "150000           NaN                NaN  ...        1.163407e+07   \n",
      "\n",
      "        Youtube UL (Bytes)  Netflix DL (Bytes)  Netflix UL (Bytes)  \\\n",
      "0             2.501332e+06        8.198936e+06        9.656251e+06   \n",
      "1             1.911173e+07        1.833841e+07        1.722713e+07   \n",
      "2             1.469958e+07        1.758779e+07        6.163408e+06   \n",
      "3             1.514664e+07        1.399465e+07        1.097942e+06   \n",
      "4             1.896287e+07        1.712458e+07        4.152180e+05   \n",
      "...                    ...                 ...                 ...   \n",
      "149996        1.176343e+07        1.788370e+07        1.967816e+07   \n",
      "149997        8.288284e+06        1.935015e+07        2.129315e+07   \n",
      "149998        1.855903e+06        9.963942e+06        5.065760e+06   \n",
      "149999        8.305402e+06        3.322253e+06        1.317259e+07   \n",
      "150000        1.100941e+07        1.162685e+07        1.100175e+07   \n",
      "\n",
      "        Gaming DL (Bytes)  Gaming UL (Bytes)  Other DL (Bytes)  \\\n",
      "0            2.780823e+08       1.434415e+07      1.717444e+08   \n",
      "1            6.087501e+08       1.170709e+06      5.269042e+08   \n",
      "2            2.295846e+08       3.956300e+05      4.106926e+08   \n",
      "3            7.995382e+08       1.084972e+07      7.490399e+08   \n",
      "4            5.277072e+08       3.529801e+06      5.507095e+08   \n",
      "...                   ...                ...               ...   \n",
      "149996       5.266097e+08       9.197207e+06      3.264510e+06   \n",
      "149997       6.268931e+08       4.735033e+06      7.121804e+08   \n",
      "149998       5.535395e+08       1.339432e+07      1.211009e+08   \n",
      "149999       3.525370e+08       2.529475e+06      8.147131e+08   \n",
      "150000       4.220447e+08       8.288398e+06      4.211005e+08   \n",
      "\n",
      "        Other UL (Bytes)  Total UL (Bytes)  Total DL (Bytes)  \n",
      "0           8.814393e+06        36749741.0       308879636.0  \n",
      "1           1.505514e+07        53800391.0       653384965.0  \n",
      "2           4.215763e+06        27883638.0       279807335.0  \n",
      "3           1.279728e+07        43324218.0       846028530.0  \n",
      "4           1.391032e+07        38542814.0       569138589.0  \n",
      "...                  ...               ...               ...  \n",
      "149996      1.348742e+07        57628851.0       574175259.0  \n",
      "149997      2.457758e+06        39135081.0       666648844.0  \n",
      "149998      1.131473e+07        34912224.0       592786405.0  \n",
      "149999      1.406930e+06        29626096.0       371895920.0  \n",
      "150000      8.264799e+06               NaN               NaN  \n",
      "\n",
      "[150001 rows x 55 columns]\n"
     ]
    }
   ],
   "source": [
    "import pandas as pd\n",
    "\n",
    "df = pd.read_excel (r'C:\\Users\\Hp\\Downloads\\Week1_challenge_data_source.xlsx')\n",
    "print (df)"
   ]
  },
  {
   "cell_type": "code",
   "execution_count": 2,
   "id": "54511c90",
   "metadata": {},
   "outputs": [
    {
     "data": {
      "text/plain": [
       "(150001, 55)"
      ]
     },
     "execution_count": 2,
     "metadata": {},
     "output_type": "execute_result"
    }
   ],
   "source": [
    "df.shape"
   ]
  },
  {
   "cell_type": "code",
   "execution_count": 3,
   "id": "45f3271a",
   "metadata": {},
   "outputs": [
    {
     "data": {
      "text/plain": [
       "['Bearer Id',\n",
       " 'Start',\n",
       " 'Start ms',\n",
       " 'End',\n",
       " 'End ms',\n",
       " 'Dur. (ms)',\n",
       " 'IMSI',\n",
       " 'MSISDN/Number',\n",
       " 'IMEI',\n",
       " 'Last Location Name',\n",
       " 'Avg RTT DL (ms)',\n",
       " 'Avg RTT UL (ms)',\n",
       " 'Avg Bearer TP DL (kbps)',\n",
       " 'Avg Bearer TP UL (kbps)',\n",
       " 'TCP DL Retrans. Vol (Bytes)',\n",
       " 'TCP UL Retrans. Vol (Bytes)',\n",
       " 'DL TP < 50 Kbps (%)',\n",
       " '50 Kbps < DL TP < 250 Kbps (%)',\n",
       " '250 Kbps < DL TP < 1 Mbps (%)',\n",
       " 'DL TP > 1 Mbps (%)',\n",
       " 'UL TP < 10 Kbps (%)',\n",
       " '10 Kbps < UL TP < 50 Kbps (%)',\n",
       " '50 Kbps < UL TP < 300 Kbps (%)',\n",
       " 'UL TP > 300 Kbps (%)',\n",
       " 'HTTP DL (Bytes)',\n",
       " 'HTTP UL (Bytes)',\n",
       " 'Activity Duration DL (ms)',\n",
       " 'Activity Duration UL (ms)',\n",
       " 'Dur. (ms).1',\n",
       " 'Handset Manufacturer',\n",
       " 'Handset Type',\n",
       " 'Nb of sec with 125000B < Vol DL',\n",
       " 'Nb of sec with 1250B < Vol UL < 6250B',\n",
       " 'Nb of sec with 31250B < Vol DL < 125000B',\n",
       " 'Nb of sec with 37500B < Vol UL',\n",
       " 'Nb of sec with 6250B < Vol DL < 31250B',\n",
       " 'Nb of sec with 6250B < Vol UL < 37500B',\n",
       " 'Nb of sec with Vol DL < 6250B',\n",
       " 'Nb of sec with Vol UL < 1250B',\n",
       " 'Social Media DL (Bytes)',\n",
       " 'Social Media UL (Bytes)',\n",
       " 'Google DL (Bytes)',\n",
       " 'Google UL (Bytes)',\n",
       " 'Email DL (Bytes)',\n",
       " 'Email UL (Bytes)',\n",
       " 'Youtube DL (Bytes)',\n",
       " 'Youtube UL (Bytes)',\n",
       " 'Netflix DL (Bytes)',\n",
       " 'Netflix UL (Bytes)',\n",
       " 'Gaming DL (Bytes)',\n",
       " 'Gaming UL (Bytes)',\n",
       " 'Other DL (Bytes)',\n",
       " 'Other UL (Bytes)',\n",
       " 'Total UL (Bytes)',\n",
       " 'Total DL (Bytes)']"
      ]
     },
     "execution_count": 3,
     "metadata": {},
     "output_type": "execute_result"
    }
   ],
   "source": [
    "df.columns.tolist()"
   ]
  },
  {
   "cell_type": "code",
   "execution_count": 4,
   "id": "f728c862",
   "metadata": {},
   "outputs": [
    {
     "data": {
      "text/plain": [
       "Bearer Id                                        0\n",
       "Start                                            1\n",
       "Start ms                                         1\n",
       "End                                              1\n",
       "End ms                                           1\n",
       "Dur. (ms)                                        1\n",
       "IMSI                                           570\n",
       "MSISDN/Number                                 1066\n",
       "IMEI                                           572\n",
       "Last Location Name                            1153\n",
       "Avg RTT DL (ms)                              27829\n",
       "Avg RTT UL (ms)                              27812\n",
       "Avg Bearer TP DL (kbps)                          1\n",
       "Avg Bearer TP UL (kbps)                          1\n",
       "TCP DL Retrans. Vol (Bytes)                  88146\n",
       "TCP UL Retrans. Vol (Bytes)                  96649\n",
       "DL TP < 50 Kbps (%)                            754\n",
       "50 Kbps < DL TP < 250 Kbps (%)                 754\n",
       "250 Kbps < DL TP < 1 Mbps (%)                  754\n",
       "DL TP > 1 Mbps (%)                             754\n",
       "UL TP < 10 Kbps (%)                            792\n",
       "10 Kbps < UL TP < 50 Kbps (%)                  792\n",
       "50 Kbps < UL TP < 300 Kbps (%)                 792\n",
       "UL TP > 300 Kbps (%)                           792\n",
       "HTTP DL (Bytes)                              81474\n",
       "HTTP UL (Bytes)                              81810\n",
       "Activity Duration DL (ms)                        1\n",
       "Activity Duration UL (ms)                        1\n",
       "Dur. (ms).1                                      1\n",
       "Handset Manufacturer                           572\n",
       "Handset Type                                   572\n",
       "Nb of sec with 125000B < Vol DL              97538\n",
       "Nb of sec with 1250B < Vol UL < 6250B        92894\n",
       "Nb of sec with 31250B < Vol DL < 125000B     93586\n",
       "Nb of sec with 37500B < Vol UL              130254\n",
       "Nb of sec with 6250B < Vol DL < 31250B       88317\n",
       "Nb of sec with 6250B < Vol UL < 37500B      111843\n",
       "Nb of sec with Vol DL < 6250B                  755\n",
       "Nb of sec with Vol UL < 1250B                  793\n",
       "Social Media DL (Bytes)                          0\n",
       "Social Media UL (Bytes)                          0\n",
       "Google DL (Bytes)                                0\n",
       "Google UL (Bytes)                                0\n",
       "Email DL (Bytes)                                 0\n",
       "Email UL (Bytes)                                 0\n",
       "Youtube DL (Bytes)                               0\n",
       "Youtube UL (Bytes)                               0\n",
       "Netflix DL (Bytes)                               0\n",
       "Netflix UL (Bytes)                               0\n",
       "Gaming DL (Bytes)                                0\n",
       "Gaming UL (Bytes)                                0\n",
       "Other DL (Bytes)                                 0\n",
       "Other UL (Bytes)                                 0\n",
       "Total UL (Bytes)                                 1\n",
       "Total DL (Bytes)                                 1\n",
       "dtype: int64"
      ]
     },
     "execution_count": 4,
     "metadata": {},
     "output_type": "execute_result"
    }
   ],
   "source": [
    "df.isna().sum()\n"
   ]
  },
  {
   "cell_type": "code",
   "execution_count": 6,
   "id": "bd76d6e7",
   "metadata": {},
   "outputs": [
    {
     "data": {
      "text/plain": [
       "(150001, 45)"
      ]
     },
     "execution_count": 6,
     "metadata": {},
     "output_type": "execute_result"
    }
   ],
   "source": [
    "def drop_cols(df):\n",
    "    #drop columns that have missing values of more than 30%\n",
    "    threshold = 0.3\n",
    "    data = df[df.columns[df.isnull().mean()<threshold]]\n",
    "\n",
    "    return data\n",
    "\n",
    "df = drop_cols(df)\n",
    "df.shape\n"
   ]
  },
  {
   "cell_type": "code",
   "execution_count": 7,
   "id": "8c745378",
   "metadata": {},
   "outputs": [
    {
     "data": {
      "text/plain": [
       "Bearer Id                             0\n",
       "Start                                 1\n",
       "Start ms                              1\n",
       "End                                   1\n",
       "End ms                                1\n",
       "Dur. (ms)                             1\n",
       "IMSI                                570\n",
       "MSISDN/Number                      1066\n",
       "IMEI                                572\n",
       "Last Location Name                 1153\n",
       "Avg RTT DL (ms)                   27829\n",
       "Avg RTT UL (ms)                   27812\n",
       "Avg Bearer TP DL (kbps)               1\n",
       "Avg Bearer TP UL (kbps)               1\n",
       "DL TP < 50 Kbps (%)                 754\n",
       "50 Kbps < DL TP < 250 Kbps (%)      754\n",
       "250 Kbps < DL TP < 1 Mbps (%)       754\n",
       "DL TP > 1 Mbps (%)                  754\n",
       "UL TP < 10 Kbps (%)                 792\n",
       "10 Kbps < UL TP < 50 Kbps (%)       792\n",
       "50 Kbps < UL TP < 300 Kbps (%)      792\n",
       "UL TP > 300 Kbps (%)                792\n",
       "Activity Duration DL (ms)             1\n",
       "Activity Duration UL (ms)             1\n",
       "Dur. (ms).1                           1\n",
       "Handset Manufacturer                572\n",
       "Handset Type                        572\n",
       "Nb of sec with Vol DL < 6250B       755\n",
       "Nb of sec with Vol UL < 1250B       793\n",
       "Social Media DL (Bytes)               0\n",
       "Social Media UL (Bytes)               0\n",
       "Google DL (Bytes)                     0\n",
       "Google UL (Bytes)                     0\n",
       "Email DL (Bytes)                      0\n",
       "Email UL (Bytes)                      0\n",
       "Youtube DL (Bytes)                    0\n",
       "Youtube UL (Bytes)                    0\n",
       "Netflix DL (Bytes)                    0\n",
       "Netflix UL (Bytes)                    0\n",
       "Gaming DL (Bytes)                     0\n",
       "Gaming UL (Bytes)                     0\n",
       "Other DL (Bytes)                      0\n",
       "Other UL (Bytes)                      0\n",
       "Total UL (Bytes)                      1\n",
       "Total DL (Bytes)                      1\n",
       "dtype: int64"
      ]
     },
     "execution_count": 7,
     "metadata": {},
     "output_type": "execute_result"
    }
   ],
   "source": [
    "df.isna().sum()"
   ]
  },
  {
   "cell_type": "code",
   "execution_count": 9,
   "id": "bfd21462",
   "metadata": {},
   "outputs": [],
   "source": [
    "def fix_missing_ffill(df, col):\n",
    "    df[col] = df[col].fillna(method='ffill')\n",
    "    return df[col]"
   ]
  },
  {
   "cell_type": "code",
   "execution_count": 10,
   "id": "3a00acd7",
   "metadata": {},
   "outputs": [],
   "source": [
    "df.ffill(axis=0)\n",
    "df['Start'] = fix_missing_ffill(df, 'Start')"
   ]
  },
  {
   "cell_type": "code",
   "execution_count": 7,
   "id": "ae3029a9",
   "metadata": {},
   "outputs": [
    {
     "ename": "NameError",
     "evalue": "name 'fix_missing_ffill' is not defined",
     "output_type": "error",
     "traceback": [
      "\u001b[1;31m---------------------------------------------------------------------------\u001b[0m",
      "\u001b[1;31mNameError\u001b[0m                                 Traceback (most recent call last)",
      "\u001b[1;32m<ipython-input-7-f91d40f86d1f>\u001b[0m in \u001b[0;36m<module>\u001b[1;34m\u001b[0m\n\u001b[1;32m----> 1\u001b[1;33m \u001b[0mdf\u001b[0m\u001b[1;33m[\u001b[0m\u001b[1;34m'Start_ms'\u001b[0m\u001b[1;33m]\u001b[0m \u001b[1;33m=\u001b[0m \u001b[0mfix_missing_ffill\u001b[0m\u001b[1;33m(\u001b[0m\u001b[0mdf\u001b[0m\u001b[1;33m,\u001b[0m \u001b[1;34m'Start_ms'\u001b[0m\u001b[1;33m)\u001b[0m\u001b[1;33m\u001b[0m\u001b[1;33m\u001b[0m\u001b[0m\n\u001b[0m\u001b[0;32m      2\u001b[0m \u001b[0mdf\u001b[0m\u001b[1;33m[\u001b[0m\u001b[1;34m'End'\u001b[0m\u001b[1;33m]\u001b[0m \u001b[1;33m=\u001b[0m \u001b[0mfix_missing_ffill\u001b[0m\u001b[1;33m(\u001b[0m\u001b[0mdf\u001b[0m\u001b[1;33m,\u001b[0m \u001b[1;34m'End'\u001b[0m\u001b[1;33m)\u001b[0m\u001b[1;33m\u001b[0m\u001b[1;33m\u001b[0m\u001b[0m\n\u001b[0;32m      3\u001b[0m \u001b[0mdf\u001b[0m\u001b[1;33m[\u001b[0m\u001b[1;34m'End ms'\u001b[0m\u001b[1;33m]\u001b[0m \u001b[1;33m=\u001b[0m \u001b[0mfix_missing_ffill\u001b[0m\u001b[1;33m(\u001b[0m\u001b[0mdf\u001b[0m\u001b[1;33m,\u001b[0m \u001b[1;34m'End_ms'\u001b[0m\u001b[1;33m)\u001b[0m\u001b[1;33m\u001b[0m\u001b[1;33m\u001b[0m\u001b[0m\n\u001b[0;32m      4\u001b[0m \u001b[0mdf\u001b[0m\u001b[1;33m[\u001b[0m\u001b[1;34m'Dur. (ms)'\u001b[0m\u001b[1;33m]\u001b[0m \u001b[1;33m=\u001b[0m \u001b[0mfix_missing_ffill\u001b[0m\u001b[1;33m(\u001b[0m\u001b[0mdf\u001b[0m\u001b[1;33m,\u001b[0m \u001b[1;34m'Dur._(ms)'\u001b[0m\u001b[1;33m)\u001b[0m\u001b[1;33m\u001b[0m\u001b[1;33m\u001b[0m\u001b[0m\n\u001b[0;32m      5\u001b[0m \u001b[0mdf\u001b[0m\u001b[1;33m[\u001b[0m\u001b[1;34m'IMSI'\u001b[0m\u001b[1;33m]\u001b[0m \u001b[1;33m=\u001b[0m \u001b[0mfix_missing_ffill\u001b[0m\u001b[1;33m(\u001b[0m\u001b[0mdf\u001b[0m\u001b[1;33m,\u001b[0m \u001b[1;34m'IMSI'\u001b[0m\u001b[1;33m)\u001b[0m\u001b[1;33m\u001b[0m\u001b[1;33m\u001b[0m\u001b[0m\n",
      "\u001b[1;31mNameError\u001b[0m: name 'fix_missing_ffill' is not defined"
     ]
    }
   ],
   "source": [
    "df['Start_ms'] = fix_missing_ffill(df, 'Start_ms')\n",
    "df['End'] = fix_missing_ffill(df, 'End')\n",
    "df['End ms'] = fix_missing_ffill(df, 'End_ms')\n",
    "df['Dur. (ms)'] = fix_missing_ffill(df, 'Dur._(ms)')\n",
    "df['IMSI'] = fix_missing_ffill(df, 'IMSI')\n",
    "df['MSISDN/Number'] = fix_missing_ffill(df, 'MSISDN/Number')\n",
    "df['IMEI'] = fix_missing_ffill(df, 'IMEI')\n",
    "df['Last Location_Name'] = fix_missing_ffill(df, 'Last_Location_Name')\n",
    "df['Activity Duration DL (ms)'] = fix_missing_ffill(df, 'Activity_Duration_DL_(ms)')\n",
    "df['Activity_Duration UL (ms)'] = fix_missing_ffill(df, 'Activity_Duration_UL_(ms)')\n",
    "df['Dur. (ms).1'] = fix_missing_ffill(df, 'Dur._(ms).1')\n",
    "df['Handset Manufacturer'] = fix_missing_ffill(df, 'Handset_Manufacturer')\n",
    "df['Handset Type'] = fix_missing_ffill(df, 'Handset_Type')\n",
    "df['Bearer Id'] = fix_missing_ffill(df, 'Bearer_Id')\n",
    "df['Total UL (Bytes)'] = fix_missing_ffill(df, 'Total_UL_(Bytes)')\n",
    "df['Total DL (Bytes)'] = fix_missing_ffill(df, 'Total_DL_(Bytes)')\n"
   ]
  },
  {
   "cell_type": "code",
   "execution_count": null,
   "id": "e02aced8",
   "metadata": {},
   "outputs": [],
   "source": []
  }
 ],
 "metadata": {
  "kernelspec": {
   "display_name": "Python 3",
   "language": "python",
   "name": "python3"
  },
  "language_info": {
   "codemirror_mode": {
    "name": "ipython",
    "version": 3
   },
   "file_extension": ".py",
   "mimetype": "text/x-python",
   "name": "python",
   "nbconvert_exporter": "python",
   "pygments_lexer": "ipython3",
   "version": "3.8.8"
  }
 },
 "nbformat": 4,
 "nbformat_minor": 5
}
